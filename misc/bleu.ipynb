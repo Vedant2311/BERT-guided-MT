{
 "cells": [
  {
   "cell_type": "code",
   "execution_count": 2,
   "metadata": {},
   "outputs": [
    {
     "name": "stdout",
     "output_type": "stream",
     "text": [
      "{'bleu': 0.49708588153717065, 'precisions': [0.8529411764705882, 0.65625, 0.5, 0.39285714285714285], 'brevity_penalty': 0.8632431969112069, 'length_ratio': 0.8717948717948718, 'translation_length': 34, 'reference_length': 39}\n"
     ]
    }
   ],
   "source": [
    "import evaluate\n",
    "# list of sentences (not split)\n",
    "predictions = [\"I am an orange cat with one cell - he always sits on our eggs, but he didn't notice when we removed them with ping pong balls.\",\n",
    "               \"My dog consumed my homework\"]\n",
    "# list of list of references (not split)\n",
    "references = [[\"I have an orange cat with one brain cell - he always tries to lay on top of our eggs, but he didn't realize we changed them out with ping pong balls.\",\n",
    "               \"I own an orange cat who must have a single brain cell - he always sits on top of our eggs, but he didn't know we replaced them with ping pong balls.\"],\n",
    "              [\"My dog ate my homework\"]]\n",
    "metric = evaluate.load(\"bleu\")\n",
    "result = metric.compute(predictions=predictions, references=references)\n",
    "print(result)"
   ]
  },
  {
   "cell_type": "code",
   "execution_count": 4,
   "metadata": {},
   "outputs": [
    {
     "name": "stdout",
     "output_type": "stream",
     "text": [
      "[['I', 'am', 'an', 'orange', 'cat', 'with', 'one', 'cell', '-', 'he', 'always', 'sits', 'on', 'our', 'eggs', ',', 'but', 'he', \"didn't\", 'notice', 'when', 'we', 'removed', 'them', 'with', 'ping', 'pong', 'balls', '.'], ['My', 'dog', 'consumed', 'my', 'homework']]\n",
      "[[['I', 'have', 'an', 'orange', 'cat', 'with', 'one', 'brain', 'cell', '-', 'he', 'always', 'tries', 'to', 'lay', 'on', 'top', 'of', 'our', 'eggs', ',', 'but', 'he', \"didn't\", 'realize', 'we', 'changed', 'them', 'out', 'with', 'ping', 'pong', 'balls', '.'], ['I', 'own', 'an', 'orange', 'cat', 'who', 'must', 'have', 'a', 'single', 'brain', 'cell', '-', 'he', 'always', 'sits', 'on', 'top', 'of', 'our', 'eggs', ',', 'but', 'he', \"didn't\", 'know', 'we', 'replaced', 'them', 'with', 'ping', 'pong', 'balls', '.']], [['My', 'dog', 'ate', 'my', 'homework']]]\n",
      "{'bleu': 0.49708588153717065, 'precisions': [0.8529411764705882, 0.65625, 0.5, 0.39285714285714285], 'brevity_penalty': 0.8632431969112069, 'length_ratio': 0.8717948717948718, 'translation_length': 34, 'reference_length': 39}\n"
     ]
    }
   ],
   "source": [
    "from datasets import load_metric\n",
    "import string\n",
    "bleu = load_metric(\"bleu\")\n",
    "def smart_split(s):\n",
    "    # treat most punctuation as separate words\n",
    "    spaced_string = \"\"\n",
    "    for c in s:\n",
    "        if c in string.punctuation and c != \"'\":\n",
    "            spaced_string += \" \" + c + \" \"\n",
    "        else:\n",
    "            spaced_string += c\n",
    "    return spaced_string.split()\n",
    "\n",
    "split_predictions = [smart_split(pred) for pred in predictions]\n",
    "split_references = [[smart_split(ref) for ref in ref_list] for ref_list in references]\n",
    "print(split_predictions)\n",
    "print(split_references)\n",
    "result = bleu.compute(predictions=split_predictions, references=split_references)\n",
    "print(result)"
   ]
  },
  {
   "cell_type": "code",
   "execution_count": 5,
   "metadata": {},
   "outputs": [
    {
     "name": "stdout",
     "output_type": "stream",
     "text": [
      "[['I', 'am', 'an', 'orange', 'cat', 'with', 'one', 'cell', '-', 'he', 'always', 'sits', 'on', 'our', 'eggs', ',', 'but', 'he', \"didn't\", 'notice', 'when', 'we', 'removed', 'them', 'with', 'ping', 'pong', 'balls', '.'], ['My', 'dog', 'consumed', 'my', 'homework']]\n",
      "[[['I', 'have', 'an', 'orange', 'cat', 'with', 'one', 'brain', 'cell', '-', 'he', 'always', 'tries', 'to', 'lay', 'on', 'top', 'of', 'our', 'eggs', ',', 'but', 'he', \"didn't\", 'realize', 'we', 'changed', 'them', 'out', 'with', 'ping', 'pong', 'balls', '.'], ['I', 'own', 'an', 'orange', 'cat', 'who', 'must', 'have', 'a', 'single', 'brain', 'cell', '-', 'he', 'always', 'sits', 'on', 'top', 'of', 'our', 'eggs', ',', 'but', 'he', \"didn't\", 'know', 'we', 'replaced', 'them', 'with', 'ping', 'pong', 'balls', '.']], [['My', 'dog', 'ate', 'my', 'homework']]]\n",
      "bleu score:  0.49708588153717065\n"
     ]
    }
   ],
   "source": [
    "from nltk.translate.bleu_score import corpus_bleu\n",
    "print(split_predictions) # list of list\n",
    "# first list: number of translations to check on\n",
    "# second list: number of words in each translation\n",
    "print(split_references) # list of list of list\n",
    "# first list: number of translations to check on\n",
    "# second list: number of references for each translation\n",
    "# third list: number of words in each reference\n",
    "bleu_score = corpus_bleu(split_references, split_predictions)\n",
    "print(\"bleu score: \", bleu_score)\n"
   ]
  }
 ],
 "metadata": {
  "kernelspec": {
   "display_name": "ml",
   "language": "python",
   "name": "python3"
  },
  "language_info": {
   "codemirror_mode": {
    "name": "ipython",
    "version": 3
   },
   "file_extension": ".py",
   "mimetype": "text/x-python",
   "name": "python",
   "nbconvert_exporter": "python",
   "pygments_lexer": "ipython3",
   "version": "3.11.5"
  }
 },
 "nbformat": 4,
 "nbformat_minor": 2
}
